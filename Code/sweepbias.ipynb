{
 "cells": [
  {
   "cell_type": "markdown",
   "metadata": {},
   "source": [
    "# **Spazzata di voltaggio**\n",
    "\n",
    "Questo script esegue una spazzata lineare dal voltaggio `V0` al voltaggio `V1` con  `nV` punti. Per ogni valore l'$\\texttt{ADC}$ esegue una misura con i seguenti parametri di campionamento:\n",
    "\n",
    "* frequenza di sampling `fs`\n",
    "* numero di acquisizioni `npt`\n",
    "\n",
    "I valori risultanti di $\\texttt{Ch1}$ e $\\texttt{Ch2}$ vengono mediati e salvati."
   ]
  },
  {
   "cell_type": "code",
   "execution_count": 13,
   "metadata": {},
   "outputs": [
    {
     "name": "stdout",
     "output_type": "stream",
     "text": [
      "Dispositivo #1 [SN:210321B19D0C, hdwf=1] connesso!\n",
      "Configurazione #1\n",
      "Dispositivo disconnesso.\n"
     ]
    }
   ],
   "source": [
    "import tdwf\n",
    "import matplotlib\n",
    "matplotlib.use('TkAgg')\n",
    "import matplotlib.pyplot as plt \n",
    "import numpy as np\n",
    "import time\n",
    "\n",
    "V0 = -3\n",
    "V1 = +3\n",
    "nV = 101\n",
    "npt = 101\n",
    "fs  = 1e6\n",
    "\n",
    "Vv = np.linspace(V0,V1,nV)\n",
    "\n",
    "# -[Configurazione AD2]--------------------------------------------------------\n",
    "#   1. Connessiene con AD2 e selezione configurazione \n",
    "ad2 = tdwf.AD2()\n",
    "#   3. Configurazione generatore funzioni\n",
    "wgen = tdwf.WaveGen(ad2.hdwf)\n",
    "wgen.w1.func = tdwf.funcDC\n",
    "wgen.w1.offs = V0\n",
    "wgen.w1.start()\n",
    "#   3. Configurazione oscilloscopio\n",
    "scope = tdwf.Scope(ad2.hdwf)\n",
    "scope.fs=fs\n",
    "scope.npt=npt\n",
    "scope.ch1.rng = 5\n",
    "scope.ch2.rng = 5\n",
    "\n",
    "# -[Ciclo di misura]-----------------------------------------------------------\n",
    "fig, [ax1, ax2] = plt.subplots(1, 2, figsize=(12, 6))\n",
    "fig.canvas.manager.set_window_title('Spazzata voltaggio')\n",
    "ax2.yaxis.tick_right()\n",
    "Ch1v = np.full((nV, 1), np.nan)\n",
    "Ch2v = np.full((nV, 1), np.nan)\n",
    "\n",
    "for ii, V in enumerate(Vv):\n",
    "    wgen.w1.offs = V\n",
    "    time.sleep(0.1)\n",
    "    scope.sample()\n",
    "    Ch1v[ii] = np.mean(scope.ch1.vals)\n",
    "    Ch2v[ii] = np.mean(scope.ch2.vals)\n",
    "\n",
    "    ax1.clear()    \n",
    "    ax1.plot(Vv, Ch1v, \".\", color=\"tab:orange\", label=\"Ch1\")\n",
    "    ax1.plot(Vv, Ch2v, \".\", color=\"tab:blue\", label=\"Ch2\")\n",
    "    ax1.grid(True)\n",
    "    ax1.set_xlabel(\"W1 [V]\", fontsize=15)\n",
    "    ax1.set_ylabel(\"Signals [V]\", fontsize=15)\n",
    "    ax1.legend()\n",
    "    \n",
    "    ax2.clear()    \n",
    "    ax2.plot(Ch1v, Ch2v, \".\", color=\"tab:orange\")\n",
    "    ax2.grid(True)\n",
    "    ax2.set_xlabel(\"Ch1 [V]\", fontsize=15)\n",
    "    ax2.set_ylabel(\"Ch2 [V]\", fontsize=15)\n",
    "    ax2.yaxis.set_label_position('right')\n",
    "    plt.tight_layout()\n",
    "    plt.show(block=False)\n",
    "    plt.pause(0.001)\n",
    "\n",
    "ad2.close()"
   ]
  }
 ],
 "metadata": {
  "kernelspec": {
   "display_name": "Python 3 (ipykernel)",
   "language": "python",
   "name": "python3"
  },
  "language_info": {
   "codemirror_mode": {
    "name": "ipython",
    "version": 3
   },
   "file_extension": ".py",
   "mimetype": "text/x-python",
   "name": "python",
   "nbconvert_exporter": "python",
   "pygments_lexer": "ipython3",
   "version": "3.12.6"
  }
 },
 "nbformat": 4,
 "nbformat_minor": 4
}
